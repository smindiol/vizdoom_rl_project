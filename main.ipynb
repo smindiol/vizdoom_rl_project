{
 "cells": [
  {
   "cell_type": "code",
   "execution_count": null,
   "id": "672fc056",
   "metadata": {},
   "outputs": [],
   "source": [
    "# main.py\n",
    "\n",
    "import yaml\n",
    "import torch\n",
    "from env.vizdoom_env import VizDoomGym\n",
    "from models.dqn import DQN\n",
    "from trainer import DQNTrainer\n",
    "\n",
    "with open(\"config/config.yaml\", \"r\") as f:\n",
    "    cfg = yaml.safe_load(f)\n",
    "scenario_path = cfg[\"env\"][\"scenario_path\"]\n",
    "env = VizDoomGym(render=cfg[\"env\"][\"render\"], config_path=scenario_path)\n",
    "input_shape = tuple(cfg[\"env\"][\"input_shape\"])\n",
    "n_actions = cfg[\"env\"][\"actions\"]\n",
    "\n",
    "device = torch.device(\"cuda\" if torch.cuda.is_available() else \"cpu\")\n",
    "\n",
    "policy_net = DQN(input_shape, n_actions).to(device)\n",
    "target_net = DQN(input_shape, n_actions).to(device)\n",
    "target_net.load_state_dict(policy_net.state_dict())\n",
    "target_net.eval()\n",
    "\n",
    "trainer = DQNTrainer(env, policy_net, target_net, cfg)\n",
    "trainer.train()\n"
   ]
  }
 ],
 "metadata": {
  "language_info": {
   "name": "python"
  }
 },
 "nbformat": 4,
 "nbformat_minor": 5
}
