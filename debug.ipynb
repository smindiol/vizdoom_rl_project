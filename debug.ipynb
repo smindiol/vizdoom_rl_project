{
 "cells": [
  {
   "cell_type": "code",
   "execution_count": null,
   "id": "f36f06b4",
   "metadata": {},
   "outputs": [],
   "source": [
    "# debug_input.py\n",
    "\n",
    "import torch\n",
    "import matplotlib.pyplot as plt\n",
    "import numpy as np\n",
    "import yaml\n",
    "from env.vizdoom_env import VizDoomGym\n",
    "from models.dqn import DQN\n",
    "\n",
    "def preprocess(obs, device):\n",
    "    tensor = torch.from_numpy(np.moveaxis(obs, -1, 0)).float()  # (C, H, W)\n",
    "    return tensor.unsqueeze(0).to(device)\n",
    "\n",
    "# Cargar configuración\n",
    "with open(\"config/config.yaml\", \"r\") as f:\n",
    "    cfg = yaml.safe_load(f)\n",
    "\n",
    "device = torch.device(\"cuda\" if torch.cuda.is_available() else \"cpu\")\n",
    "env = VizDoomGym(render=True, config_path=cfg[\"env\"][\"scenario_path\"])\n",
    "\n",
    "# Obtener una observación\n",
    "obs = env.reset()\n",
    "proc = preprocess(obs, device)\n",
    "\n",
    "# Visualizar canales individualmente\n",
    "proc_np = proc.squeeze(0).cpu().numpy()  # (C, H, W)\n",
    "for i, channel in enumerate(proc_np):\n",
    "    plt.imshow(channel, cmap='gray')\n",
    "    plt.title(f\"Canal {i}\")\n",
    "    plt.axis('off')\n",
    "    plt.savefig(f\"input_channel_{i}.png\")\n",
    "    plt.close()\n",
    "\n",
    "print(\"✅ Observación procesada y guardada como imágenes.\")\n",
    "env.close()\n"
   ]
  }
 ],
 "metadata": {
  "language_info": {
   "name": "python"
  }
 },
 "nbformat": 4,
 "nbformat_minor": 5
}
