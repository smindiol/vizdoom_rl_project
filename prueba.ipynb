{
 "cells": [
  {
   "cell_type": "code",
   "execution_count": null,
   "id": "456b11ab",
   "metadata": {},
   "outputs": [],
   "source": [
    " from vizdoom import DoomGame\n",
    "from gym import Env\n",
    "from gym.spaces import Discrete, Box\n",
    "import numpy as np\n",
    "import cv2\n",
    "import os\n",
    "\n",
    "class VizDoomGym(Env):\n",
    "    def __init__(self, render=False, config_path=None):\n",
    "        super().__init__()\n",
    "        self.game = DoomGame()\n",
    "        if config_path is None:\n",
    "            config_path = os.path.join(os.path.dirname(__file__), \"..\", \"config\", \"defend_the_center.cfg\")\n",
    "        self.game.load_config(config_path)\n",
    "\n",
    "        self.game.set_window_visible(render)\n",
    "        self.game.init()\n",
    "\n",
    "        self.observation_space = Box(low=0, high=255, shape=(100, 160, 1), dtype=np.uint8)\n",
    "        self.action_space = Discrete(3)\n",
    "\n",
    "        print(\" Entorno VizDoom inicializado\")\n",
    "        print(f\" Observación esperada: {self.observation_space.shape}\")\n",
    "\n",
    "    def step(self, action, frame_skip=1):\n",
    "        actions = np.identity(self.action_space.n)\n",
    "        total_reward = 0.0\n",
    "        done = False\n",
    "        info = {}\n",
    "\n",
    "        for _ in range(frame_skip):\n",
    "            reward = self.game.make_action(actions[action], 1)\n",
    "            total_reward += reward\n",
    "            done = self.game.is_episode_finished()\n",
    "            if done:\n",
    "                break\n",
    "\n",
    "        if self.game.get_state():\n",
    "            state = self.grayscale(self.game.get_state().screen_buffer)\n",
    "            info = {\"info\": self.game.get_state().game_variables[0]}\n",
    "        else:\n",
    "            state = np.zeros(self.observation_space.shape, dtype=np.uint8)\n",
    "            info = {\"info\": 0}\n",
    "\n",
    "        return state, total_reward, done, info\n",
    "\n",
    "    def reset(self):\n",
    "        self.game.new_episode()\n",
    "        state = self.grayscale(self.game.get_state().screen_buffer)\n",
    "        print(\" Episodio reiniciado\")\n",
    "        return state\n",
    "\n",
    "    def render(self, mode='human'):\n",
    "        pass\n",
    "\n",
    "    def grayscale(self, observation):\n",
    "        # Convertir a escala de grises\n",
    "        gray = cv2.cvtColor(np.moveaxis(observation, 0, -1), cv2.COLOR_BGR2GRAY)\n",
    "        resized = cv2.resize(gray, (160, 100), interpolation=cv2.INTER_CUBIC)\n",
    "        # Filtro Canny para detección de bordes\n",
    "        edges = cv2.Canny(resized, 100, 200)\n",
    "        # Retornar imagen como (100, 160, 1)\n",
    "        return np.reshape(edges, (100, 160, 1))\n",
    "\n",
    "    def close(self):\n",
    "        print(\" Cerrando entorno VizDoom\")\n",
    "        self.game.close()\n"
   ]
  },
  {
   "cell_type": "code",
   "execution_count": 2,
   "id": "25b4a73c",
   "metadata": {},
   "outputs": [
    {
     "ename": "NameError",
     "evalue": "name '__file__' is not defined",
     "output_type": "error",
     "traceback": [
      "\u001b[1;31m---------------------------------------------------------------------------\u001b[0m",
      "\u001b[1;31mNameError\u001b[0m                                 Traceback (most recent call last)",
      "Cell \u001b[1;32mIn[2], line 1\u001b[0m\n\u001b[1;32m----> 1\u001b[0m env \u001b[38;5;241m=\u001b[39m \u001b[43mVizDoomGym\u001b[49m\u001b[43m(\u001b[49m\u001b[43mrender\u001b[49m\u001b[38;5;241;43m=\u001b[39;49m\u001b[38;5;28;43;01mTrue\u001b[39;49;00m\u001b[43m)\u001b[49m\n\u001b[0;32m      2\u001b[0m env\u001b[38;5;241m.\u001b[39mreset()\n",
      "Cell \u001b[1;32mIn[1], line 13\u001b[0m, in \u001b[0;36mVizDoomGym.__init__\u001b[1;34m(self, render, config_path)\u001b[0m\n\u001b[0;32m     11\u001b[0m \u001b[38;5;28mself\u001b[39m\u001b[38;5;241m.\u001b[39mgame \u001b[38;5;241m=\u001b[39m DoomGame()\n\u001b[0;32m     12\u001b[0m \u001b[38;5;28;01mif\u001b[39;00m config_path \u001b[38;5;129;01mis\u001b[39;00m \u001b[38;5;28;01mNone\u001b[39;00m:\n\u001b[1;32m---> 13\u001b[0m     config_path \u001b[38;5;241m=\u001b[39m os\u001b[38;5;241m.\u001b[39mpath\u001b[38;5;241m.\u001b[39mjoin(os\u001b[38;5;241m.\u001b[39mpath\u001b[38;5;241m.\u001b[39mdirname(\u001b[38;5;18;43m__file__\u001b[39;49m), \u001b[38;5;124m\"\u001b[39m\u001b[38;5;124m..\u001b[39m\u001b[38;5;124m\"\u001b[39m, \u001b[38;5;124m\"\u001b[39m\u001b[38;5;124mconfig\u001b[39m\u001b[38;5;124m\"\u001b[39m, \u001b[38;5;124m\"\u001b[39m\u001b[38;5;124mdefend_the_center.cfg\u001b[39m\u001b[38;5;124m\"\u001b[39m)\n\u001b[0;32m     14\u001b[0m \u001b[38;5;28mself\u001b[39m\u001b[38;5;241m.\u001b[39mgame\u001b[38;5;241m.\u001b[39mload_config(config_path)\n\u001b[0;32m     16\u001b[0m \u001b[38;5;28mself\u001b[39m\u001b[38;5;241m.\u001b[39mgame\u001b[38;5;241m.\u001b[39mset_window_visible(render)\n",
      "\u001b[1;31mNameError\u001b[0m: name '__file__' is not defined"
     ]
    }
   ],
   "source": [
    "env = VizDoomGym(render=True)\n",
    "env.reset()\n"
   ]
  }
 ],
 "metadata": {
  "kernelspec": {
   "display_name": "pviz",
   "language": "python",
   "name": "python3"
  },
  "language_info": {
   "codemirror_mode": {
    "name": "ipython",
    "version": 3
   },
   "file_extension": ".py",
   "mimetype": "text/x-python",
   "name": "python",
   "nbconvert_exporter": "python",
   "pygments_lexer": "ipython3",
   "version": "3.9.23"
  }
 },
 "nbformat": 4,
 "nbformat_minor": 5
}
